{
 "cells": [
  {
   "cell_type": "code",
   "execution_count": null,
   "id": "11d7d349-7be2-4301-b8ae-a70bc09d00a1",
   "metadata": {},
   "outputs": [],
   "source": []
  }
 ],
 "metadata": {
  "kernelspec": {
   "display_name": "",
   "name": ""
  },
  "language_info": {
   "name": ""
  }
 },
 "nbformat": 4,
 "nbformat_minor": 5
}
